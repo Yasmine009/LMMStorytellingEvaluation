{
  "nbformat": 4,
  "nbformat_minor": 0,
  "metadata": {
    "colab": {
      "provenance": [],
      "gpuType": "T4"
    },
    "kernelspec": {
      "name": "python3",
      "display_name": "Python 3"
    },
    "language_info": {
      "name": "python"
    },
    "accelerator": "GPU"
  },
  "cells": [
    {
      "cell_type": "code",
      "execution_count": null,
      "metadata": {
        "colab": {
          "base_uri": "https://localhost:8080/"
        },
        "id": "2LfzFETu7V-H",
        "outputId": "ec1ccbc0-e141-4dbd-b3ed-37ca1f3805a1"
      },
      "outputs": [
        {
          "output_type": "stream",
          "name": "stdout",
          "text": [
            "Requirement already satisfied: openai in /usr/local/lib/python3.10/dist-packages (1.52.2)\n",
            "Requirement already satisfied: anyio<5,>=3.5.0 in /usr/local/lib/python3.10/dist-packages (from openai) (3.7.1)\n",
            "Requirement already satisfied: distro<2,>=1.7.0 in /usr/local/lib/python3.10/dist-packages (from openai) (1.9.0)\n",
            "Requirement already satisfied: httpx<1,>=0.23.0 in /usr/local/lib/python3.10/dist-packages (from openai) (0.27.2)\n",
            "Requirement already satisfied: jiter<1,>=0.4.0 in /usr/local/lib/python3.10/dist-packages (from openai) (0.6.1)\n",
            "Requirement already satisfied: pydantic<3,>=1.9.0 in /usr/local/lib/python3.10/dist-packages (from openai) (2.9.2)\n",
            "Requirement already satisfied: sniffio in /usr/local/lib/python3.10/dist-packages (from openai) (1.3.1)\n",
            "Requirement already satisfied: tqdm>4 in /usr/local/lib/python3.10/dist-packages (from openai) (4.66.6)\n",
            "Requirement already satisfied: typing-extensions<5,>=4.11 in /usr/local/lib/python3.10/dist-packages (from openai) (4.12.2)\n",
            "Requirement already satisfied: idna>=2.8 in /usr/local/lib/python3.10/dist-packages (from anyio<5,>=3.5.0->openai) (3.10)\n",
            "Requirement already satisfied: exceptiongroup in /usr/local/lib/python3.10/dist-packages (from anyio<5,>=3.5.0->openai) (1.2.2)\n",
            "Requirement already satisfied: certifi in /usr/local/lib/python3.10/dist-packages (from httpx<1,>=0.23.0->openai) (2024.8.30)\n",
            "Requirement already satisfied: httpcore==1.* in /usr/local/lib/python3.10/dist-packages (from httpx<1,>=0.23.0->openai) (1.0.6)\n",
            "Requirement already satisfied: h11<0.15,>=0.13 in /usr/local/lib/python3.10/dist-packages (from httpcore==1.*->httpx<1,>=0.23.0->openai) (0.14.0)\n",
            "Requirement already satisfied: annotated-types>=0.6.0 in /usr/local/lib/python3.10/dist-packages (from pydantic<3,>=1.9.0->openai) (0.7.0)\n",
            "Requirement already satisfied: pydantic-core==2.23.4 in /usr/local/lib/python3.10/dist-packages (from pydantic<3,>=1.9.0->openai) (2.23.4)\n"
          ]
        }
      ],
      "source": [
        "!pip install openai"
      ]
    },
    {
      "cell_type": "code",
      "source": [
        "import os\n",
        "from openai import OpenAI\n",
        "\n",
        "OpenAI.api_key = \"\"\n",
        "\n",
        "os.environ[\"OPENAI_API_KEY\"] = \"\"\n",
        "MODEL = \"gpt-3.5-turbo\"\n",
        "\n",
        "client = OpenAI()"
      ],
      "metadata": {
        "id": "hA6K2RQ18xBH"
      },
      "execution_count": null,
      "outputs": []
    },
    {
      "cell_type": "code",
      "source": [
        "def chooseTarget(ageGroup):\n",
        "\n",
        "    if ageGroup==\"Toddlers\":\n",
        "        prompt =\"\"\"-use of plurals like “dogs”\n",
        "                -use simple sentences\n",
        "                -simple understanding of concepts including color, space,time\n",
        "                -use “in” and ”on”\n",
        "                -use of simple pronouns ex;  “me” ,  “you”\n",
        "                -use of 2 step directions\n",
        "                -simple, repetitive, and rhythmic language.\n",
        "                -Sentences should be short and easy to understand.\n",
        "                -  The plot should be straightforward with minimal complexity, often focusing on everyday experiences or simple adventures.\n",
        "                -Incorporating a sing-song quality or actual songs\n",
        "                -Interactive content\n",
        "                -Focus on familiar objects, animals, or routines (e.g., bedtime, mealtime) that are part of the child’s everyday life.\n",
        "                - Simple expressions of emotions can help children begin to understand and identify their own feelings\n",
        "                Here’s an example of what  i am looking for :\n",
        "                Once upon a time, in a sunny meadow, there lived a little bunny named Benny. Benny was a curious and happy bunny who loved hopping around and discovering new things.\n",
        "                One bright morning, after a rainy night, Benny saw something magical in the sky. It was a beautiful rainbow, stretching across the sky with its lovely colors: red, orange, yellow, green, blue, and purple.\n",
        "                \"\"\"\n",
        "\n",
        "    elif ageGroup== \"Preschoolers\":\n",
        "        prompt=\"\"\"  - Simple, relatable narratives\n",
        "                    - Stories that enhance vocabulary\n",
        "                    - Themes that encourage critical thinking and empathy\n",
        "                    -use simple rhymes\n",
        "                    -use words about time like yesterday, morning or night\n",
        "                    -use sentences that gives a lot of details\n",
        "                    -remember that they struggle at the sounds l,s,r,v,z,ch,sh,th. Try to avoid using them\n",
        "                    -use numbers\n",
        "                    -touch on subjects like responsibility , pride and guilt\n",
        "                    -story that comes through actions\n",
        "\n",
        "\n",
        "                    Here's an example of what im looking for :\n",
        "                    Once upon a time, in a lush green forest, there lived a little red fox named Felix. Felix\n",
        "                    was very curious and loved to explore every corner of the forest. One sunny morning, Felix\n",
        "                    decided to go on an adventure to find the biggest and juiciest berry in the whole forest.\n",
        "                    Felix hopped along the path, greeting all his friends. He waved to Mr. Owl perched high in\n",
        "                    the tree and said hello to Mrs. Rabbit who was busy collecting carrots. Everyone loved Felix\n",
        "                    because he was always kind and helpful.\n",
        "                \"\"\"\n",
        "\n",
        "    elif ageGroup== \"Early Elementary\":\n",
        "        prompt = \"\"\"   - Straightforward and clear structure of the plot\n",
        "            - Predictable beginning, middle, and end\n",
        "            - Relatable Characters\n",
        "            - Few main characters\n",
        "            - Child protagonists or animal characters\n",
        "            -Simple Language\n",
        "            - Short, concise sentences\n",
        "            - Use of repetition\n",
        "            - Clear, simple message\n",
        "            - Positive outcomes\n",
        "            - Predictable patterns\n",
        "            - Questions to engage the reader\n",
        "            - Rhyming text\n",
        "            - Musical, sing-song quality\n",
        "            Here’s an example of what i am looking for :\n",
        "            Once upon a time, in a cozy burrow, lived a brave little bunny named Benny\n",
        "            -Benny loved to hop around the meadow and play with his friends\n",
        "            - One sunny day, Benny’s friends were too scared to explore the forest\n",
        "            - Benny decided to go alone to find new adventures\n",
        "            - In the forest, Benny found a lost kitten, Mia, who needed help finding her way home\n",
        "                \"\"\"\n",
        "\n",
        "    elif ageGroup== \"Preteens\":\n",
        "        prompt= \"\"\"- characters who demonstrate empathy, teamwork, and cooperation.\n",
        "            - Include themes that address and normalize mood swings, emotional changes, and providing relatable scenarios and resolutions.\n",
        "            -Introduce conflicts that the characters must navigate and resolve, reflecting the quarrels and disagreements common in this age group.\n",
        "            - Highlight characters who experience and manage sensitive social situations, teaching readers about empathy, kindness, and dealing with hurt feelings.\n",
        "            - Create plots centered around group activities, such as school projects, sports, or clubs, emphasizing the importance of teamwork and the joy of making new friends.\n",
        "            -Focus on themes of loyalty, trust, and the complexities of peer relationships, showing characters standing by their friends and working through challenges together.\n",
        "            -Feature characters who navigate peer pressure and develop their unique identities, even while sometimes conforming to group norms.\n",
        "            Promoting gender equality and mutual respect.\n",
        "            -Include elements of secret codes, puzzles, and practical jokes to engage the reader’s sense of fun and adventure.\n",
        "            - Provide examples of characters dealing with teasing and criticism, demonstrating resilience, self-confidence, and the ability to stand up for themselves and others.\n",
        "            - Weave in moral lessons and ethical dilemmas, helping readers develop a strong sense of right and wrong through the characters’ experiences and choices.\n",
        "            -Incorporate elements of hero worship, where characters admire and aspire to be like their heroes, whether they are real people, fictional characters, or historical figures.\n",
        "            - Ensure the story has an element of adventure, allowing the characters to engage in heroic acts, face challenges, and grow from their experiences.\n",
        "            Here’s an example of what i am looking for:\n",
        "            In the quiet town of Willow Creek, nestled between rolling hills and ancient forests, lived a group of friends who were always ready for an adventure. The leader of the group was Alex, a curious and resourceful twelve-year-old with a knack for solving mysteries. Alongside him were his best friends, Emma, a talented artist with a keen eye for detail, and Jake, a tech whiz who could hack into anything.\n",
        "            One crisp autumn afternoon, while exploring the outskirts of town, the trio stumbled upon an old, abandoned mansion. The mansion, known as Holloway House, had been the subject of many local legends. Some said it was haunted, while others believed it hid a treasure left behind by its eccentric owner, Professor Holloway, who vanished mysteriously many years ago.\n",
        "            \"\"\"\n",
        "\n",
        "    elif ageGroup== \"Late Elementary\":\n",
        "        prompt= \"\"\" -asks more complex questions\n",
        "                    -desires detailed answers\n",
        "                    -shows unusual interest in numbers\n",
        "                    -likes active, competititce games\n",
        "                    -enjoys simple games such as checkers and cards\n",
        "                    -understands the value of coins\n",
        "                    -enjoys hobbies and collections\n",
        "                    -likes to experiment\n",
        "                    -Understand such terms as: alike, different, beginning, end , etc\n",
        "                    -enjoys mysteries, adventure stories and biographies\n",
        "                    -Simple, relatable narratives\n",
        "                    - Familiar settings and relatable characters\n",
        "                    - Introduction to problem-solving and critical thinking\n",
        "                    - Promotes empathy and understanding of diverse perspectives\n",
        "                    Here's an example of what i am looking for :\n",
        "                    Once upon a time, in a cozy little burrow nestled in a meadow, lived a bunny named Benny.\n",
        "                    Benny was not like the other bunnies; he was curious and loved exploring the world beyond\n",
        "                    the safety of his home. His fluffy fur was white as snow, and his eyes sparkled with\n",
        "                    excitement whenever he embarked on a new adventure.\n",
        "\"\"\"\n",
        "\n",
        "    else:\n",
        "        raise ValueError(\"choose target error\")\n",
        "\n",
        "    return prompt\n",
        "\n",
        "\n",
        "def lectureChar(ageGroup):\n",
        "    if ageGroup == \"Toddlers\":\n",
        "        prompt = \"\"\"\n",
        "                    -easy language\n",
        "                    -simple words\n",
        "                    -simple phrases\n",
        "                    -when you use terminology, simplify them by easy definitions that toddlers see in their daily life\n",
        "                    and that they can relate or imagine easily\n",
        "                    -imagine that this is going to be the story where toddlers can imagine in their head 100%\"\"\"\n",
        "    elif ageGroup == \"Preschoolers\":\n",
        "        prompt = \"\"\" -Stories that enhance vocabulary\n",
        "                - Themes that encourage critical thinking and empathy\n",
        "                -use simple rhymes\n",
        "                -use words about time like yesterday, morning or night\n",
        "                -use sentences that gives a lot of details\n",
        "                -rememver that they struggle at the sounds l,s,r,v,z,ch,sh,th. Try to avoid using them\n",
        "                -use numbers\n",
        "                -touch on subjects like responsibility , pride and guilt\n",
        "                -story that comes through actions\"\"\"\n",
        "    elif ageGroup== \"Early Elementary\" :\n",
        "        prompt = chooseTarget(\"Early Elementary\")\n",
        "    elif ageGroup == \"Late Elementary\":\n",
        "        prompt= chooseTarget(\"Late Elementary\")\n",
        "    elif ageGroup== \"Preteens\":\n",
        "        prompt = chooseTarget(\"Preteens\")\n",
        "\n",
        "    else:\n",
        "        raise ValueError(\"lecture char errrorr\")\n",
        "    return prompt\n",
        "\n",
        "# Purpose: story generation based on the lecture content\n",
        "def generate_lecture_story(story_segment,word_count,ageGroup, objective, model=MODEL, temperature=0.7, max_tokens=1000):\n",
        "    system_prompt = (\n",
        "        \"You are a extremely creative and friendly assistant, responsible with storifying the lectures\"\n",
        "        \"Your task is to remodel the lecture to a story \"\n",
        "        \"Here’s a summary of what is expected from the lecture : \"\n",
        "         f\"'{story_segment}'\\n\\n\"\n",
        "        \"Define the subject\"\n",
        "        \"Clearly outline the main points and key information of the given prompt \"\n",
        "        \"Structure your content with a clear beginning, middle, and end.\"\n",
        "        \"Identify areas where storytelling elements (characters, setting, conflict, resolution) can be naturally integrated. \"\n",
        "        \"Dont list element \"\n",
        "        \"Dont use the word 'for beginners' \"\n",
        "        \"Here are some characteristics i am expection while generating: \"\n",
        "        f\"'{lectureChar(ageGroup)}'\"\n",
        "        \"Here are the objectives of this story:\"\n",
        "         f\"'{objective}'\\n\\n\"\n",
        "         \"to a \"\n",
        "         f\"'{ageGroup}'\"\n",
        "        \"Tone and style : \"\n",
        "        \"-Educational yet engaging, with a focus on making complex concepts easy to understand.\"\n",
        "        \"-Use dialogue and interactions to illustrate key points\"\n",
        "        \"under\"\n",
        "        f\"'{word_count}'\"\n",
        "        \"words\"\n",
        "        )\n",
        "\n",
        "    response = client.chat.completions.create(\n",
        "        model=model,\n",
        "        messages= [ {   \"role\" : \"system\",  \"content\" : system_prompt },\n",
        "        ],\n",
        "        top_p=1.0,\n",
        "        frequency_penalty=0.0,\n",
        "        presence_penalty=0.0,\n",
        "        temperature=temperature,\n",
        "        max_tokens=max_tokens,\n",
        "    )\n",
        "\n",
        "    return response.choices[0].message.content\n",
        "\n",
        "#this is the function that per age group define the characteristics of the question generation\n",
        "def questionChar(ageGroup):\n",
        "    if ageGroup==\"Toddlers\":\n",
        "        prompt = \"\"\"\n",
        "            -asks questions about event descriptions in the story\n",
        "            -ask to provide solutions  to the problem mentioned in the story\n",
        "            -”Who” ,”What” and “What happened” questions\n",
        "            -straighfoward questions about characters or objects mentioned in the story\n",
        "            - Questions about the feelings of the characters\n",
        "            -Questions related to the future of the story , what can happen next\n",
        "            -Questions about the size and colors in the story\n",
        "            -Ask questions that have short answers\n",
        "            \"\"\"\n",
        "    elif ageGroup== \"Preschoolers\":\n",
        "        prompt = \"\"\"\n",
        "            \"-ask simple questions \"\n",
        "            \"-ask questions about time \"\n",
        "            \"-ask questions about why and how . for example  “that’s a nice bridge he is  building, Why he put it there”\"\n",
        "            \"-ask about his opinions about story\"\n",
        "        \"\"\"\n",
        "    elif ageGroup==  \"Early Elementary\":\n",
        "        prompt = \"\"\" \"-ask simple questions \"\n",
        "                \"-ask questions about time \"\n",
        "                \"-ask questions about why and how . for example  “that’s a nice bridge he is  building, Why he put it there”\"\n",
        "                \"-ask about his opinions about story\"\n",
        "            \"\"\"\n",
        "    elif ageGroup== \"Late Elementary\":\n",
        "        prompt = \"\"\"-questions about comprehension of the problems, solutions mentioned in the story\n",
        "                    -questions about character’s behavious\n",
        "                    -ask about questions that requires reading between the lines\n",
        "                    - Why questions\n",
        "                    -ask questions that requires identifying compare and contrast elements\n",
        "                    -questions that focuses on reasons and outcomes\n",
        "                    -Opinion based questions , open ended questions\n",
        "                    -predictive questions about future\n",
        "                    -questions that mesure understanding of the story\n",
        "                    \"\"\"\n",
        "    elif ageGroup == \"Preteens\":\n",
        "        prompt = \"\"\"\n",
        "            -Asking questions about how characters deal with problems and how would they deal about it\n",
        "            -Asking to describe challenges faced\n",
        "            -Asking the solutions for the problems mentioned in the story\n",
        "            -Asking opinions about characters\n",
        "            -Asking if an act is right or wrong in the text\n",
        "            -Asking what we can learn from character’s reactions\n",
        "            -Asking about clues, or secret codes that friends used to communicate in the story\n",
        "            -Questions related to the storyline and empathy\n",
        "            \"\"\"\n",
        "    else:\n",
        "        raise ValueError(\"question characteristics error\")\n",
        "    return prompt\n",
        "\n",
        "\n",
        "def generateQuestions(storyPrompt, questionAbout, target,  model=MODEL, temperature =0.8, max_tokens=1000):\n",
        "    system_prompt = (f\"You are extremely warm and and creative babysitter, ask 3 questions that have short answers about the following story:\"\n",
        "    f\"'{storyPrompt}'\\n\\n\"\n",
        "    \"ask question about\"\n",
        "    f\"'{questionAbout}'\"\n",
        "    \"Here's the characteristics of the target audience: \"\n",
        "    f\"'{target}'\"\n",
        "    \"If the questions are about the storyline, use the following features:\"\n",
        "    f\"'{questionChar(target)}'\"\n",
        "    \"and mix the questions in total there should be 3 questions\"\n",
        "    \"dont define question type title per question\"\n",
        "    \"per question , cite the answer and then write the next question and answer pair\"\n",
        "    \"If the questions are about lecture content, ask questions about the lecture\"\n",
        "    \"Give short answers to generated questions and cite from the text\"\n",
        "    \"First provide Questions seperately under the title 'Questions' then write down answers under the title 'Answers' \"\n",
        "    \"\"\"Here's an example of what I am expecting as the structure:\n",
        "        Questions:\n",
        "            1. What did Hello Kitty and Seb find while chasing butterflies?\n",
        "            2. How did Hello Kitty, Seb, and Luna travel through the forest?\n",
        "            3. Why did Luna join Hello Kitty and Seb in their meadow games?\n",
        "\n",
        "        Answers:\n",
        "            1. Hello Kitty and Seb found a tiny lost kitten named Luna while chasing butterflies.\n",
        "            2. Hello Kitty, Seb, and Luna traveled through the forest by crossing bridges and streams.\n",
        "            3. Luna joined Hello Kitty and Seb in their meadow games because they helped her and formed a bond of friendship.\n",
        "\n",
        "    \"\"\")\n",
        "\n",
        "    response= client.chat.completions.create(\n",
        "        model=model,\n",
        "        messages=[\n",
        "            { \"role\" : \"system\",\n",
        "             \"content\" : system_prompt},\n",
        "        ],\n",
        "        n=3, #nb of questions\n",
        "        temperature=temperature,\n",
        "        max_tokens=max_tokens,\n",
        "    )\n",
        "    return response.choices[0].message.content\n"
      ],
      "metadata": {
        "id": "XguAbCQ_9iUD"
      },
      "execution_count": null,
      "outputs": []
    },
    {
      "cell_type": "markdown",
      "source": [
        "## **Year 4**"
      ],
      "metadata": {
        "id": "67VlGtPH9aKA"
      }
    },
    {
      "cell_type": "markdown",
      "source": [
        "### **Monday (Topic 1)**"
      ],
      "metadata": {
        "id": "5KxUQNHp9eXA"
      }
    },
    {
      "cell_type": "code",
      "source": [
        "story_request = \"In this unit children will work towards answering the Quest question ‘How can changes to the environment affect the things that live there?’ They will construct and interpret food chains, identifying producer, prey, consumer and predator. They will realize that the availability of food is an important factor when considering how animals respond to change in the environment. Children will investigate the effect of a small change to an environment by placing carpet or other covering on the ground, and will consider the impact of larger changes to the environment such as fire and flood. They will consider how humans can reduce the impact of some environmental changes. They will finish by answering the Quest about the effects on pond life of diverting a river to build new houses, when the original course of the river feeds into the pond.\"\n",
        "objective = \"\"\"Recognise that environments can change and that this can sometimes pose dangers to living things.\n",
        "Construct and interpret a variety of food chains, identifying producers, predators and prey.\n",
        "Asking relevant questions and using different types of scientific enquiries to answer them.\n",
        "\"\"\""
      ],
      "metadata": {
        "id": "n5RK9Rlu9dLY"
      },
      "execution_count": null,
      "outputs": []
    },
    {
      "cell_type": "code",
      "source": [
        "res = generate_lecture_story(story_request,500, \"Late Elementary\", objective)\n",
        "print(res)"
      ],
      "metadata": {
        "colab": {
          "base_uri": "https://localhost:8080/"
        },
        "id": "GmJz0RE09Yrg",
        "outputId": "d78be475-6a61-4a2e-f842-865fa249e78a"
      },
      "execution_count": null,
      "outputs": [
        {
          "output_type": "stream",
          "name": "stdout",
          "text": [
            "Once upon a time, in a bustling forest filled with diverse wildlife, a group of young explorers gathered around their teacher, Mrs. Maple, ready to embark on a new quest. The air was filled with excitement as Mrs. Maple introduced the day's topic: How changes to the environment can affect the creatures that call it home.\n",
            "\n",
            "The children listened intently as Mrs. Maple explained that they would be working towards answering the Quest question, \"How can changes to the environment affect the things that live there?\" They would learn about food chains, identifying producers, prey, consumers, and predators. The availability of food, they were told, plays a crucial role in how animals respond to environmental changes.\n",
            "\n",
            "To help the children understand the impact of small changes to an environment, Mrs. Maple set up an experiment. She placed carpet and other coverings on the ground to simulate alterations in the forest floor. The children observed how this simple change affected the behavior of insects, birds, and small animals in the area.\n",
            "\n",
            "As the days went by, the young explorers delved deeper into the topic. They learned about the consequences of larger environmental changes, such as fires and floods. Through hands-on activities and discussions, they explored how humans can help reduce the impact of these changes on wildlife.\n",
            "\n",
            "One day, as they sat by a tranquil pond, Mrs. Maple presented them with a new challenge. She asked them to imagine the effects on pond life if a river were diverted to build new houses, cutting off the original source of water for the pond. The children pondered this scenario, considering how the plants and animals in and around the pond would be affected by such a significant change.\n",
            "\n",
            "Throughout their journey of discovery, the young explorers asked thought-provoking questions and used various scientific inquiries to find answers. They constructed and interpreted food chains, gaining a deeper understanding of the intricate relationships between different species in an ecosystem.\n",
            "\n",
            "In the end, the children not only learned about the fragility of ecosystems and the importance of preserving natural habitats but also developed a sense of empathy towards the creatures that rely on these environments for survival. They realized that even small changes can have far-reaching consequences for the delicate balance of nature.\n",
            "\n",
            "And so, with newfound knowledge and a sense of responsibility, the young explorers bid farewell to the forest, their minds buzzing with ideas on how they could make a positive impact on the world around them. As they walked back to their village, they knew that they were one step closer to becoming true guardians of the environment, ready to protect and preserve the wonders of the natural world for generations to come.\n"
          ]
        }
      ]
    },
    {
      "cell_type": "code",
      "source": [
        "res = generate_lecture_story(story_request,300, \"Late Elementary\", objective)\n",
        "print(res)"
      ],
      "metadata": {
        "colab": {
          "base_uri": "https://localhost:8080/"
        },
        "id": "nHzHAI7TT2qK",
        "outputId": "883156c3-0038-478b-929c-ecf58b443169"
      },
      "execution_count": null,
      "outputs": [
        {
          "output_type": "stream",
          "name": "stdout",
          "text": [
            "In a small village nestled between rolling hills and a glistening pond, a group of curious children gathered around their teacher, Miss Olivia. They were embarking on a quest to discover how changes in the environment could affect the living things around them.\n",
            "\n",
            "Their quest question was simple yet profound: \"How can changes to the environment affect the things that live there?\"\n",
            "\n",
            "Miss Olivia explained that they would begin by exploring food chains, a delicate balance of producers, prey, consumers, and predators. The children's eyes widened with wonder as they imagined the intricate web of life that connected every living creature in their village.\n",
            "\n",
            "To understand the impact of changes in the environment, the children conducted an experiment. They placed carpet on the ground to mimic a small change and observed how it affected the insects and small animals in the area. Through this simple act, they learned that even the smallest alteration could have a significant impact on the ecosystem.\n",
            "\n",
            "As their exploration continued, the children delved into larger-scale changes like fire and flood. They discussed how these natural disasters could disrupt entire habitats and force animals to adapt or seek new homes.\n",
            "\n",
            "Miss Olivia also guided them to consider the role of humans in environmental changes. They learned how human activities like deforestation and pollution could harm the delicate balance of nature, leading to devastating consequences for plants and animals alike.\n",
            "\n",
            "Their quest culminated in a thought-provoking scenario: the effects of diverting a river to build new houses, which would alter the flow of water into the pond. The children debated passionately, weighing the pros and cons of progress versus environmental preservation.\n",
            "\n",
            "Through their journey, the children not only learned about the fragility of ecosystems but also discovered the power they held in shaping the future of their village. With newfound knowledge and empathy, they vowed to protect their environment and all the living things that called it home. And so, their quest for understanding became a quest for stewardship, as they embraced their role as caretakers of the world around them.\n"
          ]
        }
      ]
    },
    {
      "cell_type": "code",
      "source": [
        "res = generate_lecture_story(story_request,200, \"Late Elementary\", objective)\n",
        "print(res)"
      ],
      "metadata": {
        "colab": {
          "base_uri": "https://localhost:8080/"
        },
        "id": "2YxDjyWaT6xl",
        "outputId": "5c115ccf-9326-42df-a62e-3f757c650969"
      },
      "execution_count": null,
      "outputs": [
        {
          "output_type": "stream",
          "name": "stdout",
          "text": [
            "In a quaint little village nestled by a serene pond, a group of curious children embarked on a quest to uncover the mysteries of their changing environment. Led by their inquisitive minds, they set out to answer the question, ‘How can changes to the environment affect the things that live there?’\n",
            "\n",
            "As they delved into their exploration, the children discovered the intricate web of life through constructing and interpreting food chains. They identified the producers, prey, consumers, and predators that played crucial roles in maintaining the delicate balance of their ecosystem.\n",
            "\n",
            "Through hands-on experiments, like placing carpet on the ground to mimic small changes, they realized the profound impact even minor alterations could have on their surroundings. They also pondered the consequences of more significant changes, such as fire and flood, on the environment and its inhabitants.\n",
            "\n",
            "As their quest neared its end, the children grappled with a challenging scenario: the effects of diverting a river to build new houses, altering the natural course that fed into their beloved pond. Through thoughtful discussions and critical thinking, they explored how humans could mitigate the impact of such environmental changes.\n",
            "\n",
            "In the end, armed with newfound knowledge and a deeper understanding of their interconnected world, the children emerged as stewards of their environment, ready to protect and preserve it for generations to come.\n"
          ]
        }
      ]
    },
    {
      "cell_type": "code",
      "source": [
        "story = \"\"\"Once upon a time, in a vibrant forest teeming with life, a group of curious young explorers gathered around their teacher, Ms. Lily. She had a twinkle in her eye as she posed a thought-provoking question to the children, \"How can changes to the environment affect the things that live there?\"\n",
        "\n",
        "The children, eager to unravel this mystery, embarked on a quest to understand the intricate balance of nature. They learned about food chains, where each living thing plays a vital role. There were producers, like the lush green plants that made their own food, predators who hunted for their meals, prey who tried to avoid becoming dinner, and consumers who enjoyed a variety of foods.\n",
        "\n",
        "As they delved deeper into the topic, the children realized that the availability of food was crucial for the survival of all creatures. They conducted experiments by altering small parts of their environment, like covering the ground with carpet, to see how it affected the animals living there. They also pondered the impact of more significant changes such as fires and floods, understanding how these events could disrupt the delicate harmony of the ecosystem.\n",
        "\n",
        "One day, a new challenge awaited the young explorers. They were faced with a scenario where a river needed to be diverted to make way for new houses. The original course of the river fed into a pond, home to a diverse array of pond life. The children had to consider the effects of this change on the creatures living in the pond, prompting them to think critically about the consequences of human actions on the environment.\n",
        "\n",
        "Through their adventures and investigations, the children learned valuable lessons about the interconnectedness of all living things. They understood that even small alterations to the environment could have far-reaching effects on the creatures that called it home. Armed with this newfound knowledge, they brainstormed ways in which humans could reduce their impact on the environment and protect the delicate balance of nature.\n",
        "\n",
        "In the end, the young explorers emerged wiser and more aware of the importance of preserving the environment for future generations. As they bid farewell to the forest, they knew that they had unlocked the secrets of nature's intricate web, ready to face whatever challenges the world may throw their way.\n",
        "\n",
        "And so, the children's quest to understand the effects of environmental changes came to a close, but their curiosity and passion for the natural world burned brighter than ever before. With hearts full of empathy and minds buzzing with new insights, they set off on their next adventure, eager to explore the wonders of the world around them.\n",
        "\n",
        "\n",
        "\"\"\"\n",
        "\n",
        "qst = generateQuestions(story, \"Food chains\", \"Late Elementary\")\n",
        "print(qst)"
      ],
      "metadata": {
        "colab": {
          "base_uri": "https://localhost:8080/"
        },
        "id": "UOtpVTbWcJE8",
        "outputId": "f8601b57-f563-49f8-b4a0-b406afa3d657"
      },
      "execution_count": null,
      "outputs": [
        {
          "output_type": "stream",
          "name": "stdout",
          "text": [
            "Questions:\n",
            "1. How did the children in the story conduct experiments to understand the effects of changes to the environment?\n",
            "2. Why did the young explorers have to consider the effects of diverting a river on the pond life?\n",
            "3. What did the children learn about the interconnectedness of all living things through their adventures in the forest?\n",
            "\n",
            "Answers:\n",
            "1. The children conducted experiments by altering small parts of their environment, like covering the ground with carpet, to see how it affected the animals living there.\n",
            "2. The young explorers had to consider the effects of diverting a river on the pond life to understand the consequences of human actions on the environment.\n",
            "3. The children learned that even small alterations to the environment could have far-reaching effects on the creatures that called it home, highlighting the interconnectedness of all living things.\n"
          ]
        }
      ]
    },
    {
      "cell_type": "markdown",
      "source": [
        "### **Tuesday (Topic 2)**"
      ],
      "metadata": {
        "id": "p6b0nPNKPa5b"
      }
    },
    {
      "cell_type": "code",
      "source": [
        "story_request = \"Children explore the impact of environmental change on people and on living things, looking particularly at the impact of fire and flooding. They ask questions to suggest how different living things can be affected by fires and flooding and how environments can change. (Where, how, when, what?)\"\n",
        "objective = \"Recognize that environments can change and that this can sometimes pose dangers to living things.\""
      ],
      "metadata": {
        "id": "RLUuFmZZPh9I"
      },
      "execution_count": null,
      "outputs": []
    },
    {
      "cell_type": "code",
      "source": [
        "res = generate_lecture_story(story_request, 500, \"Late Elementary\", objective)\n",
        "print(res)"
      ],
      "metadata": {
        "colab": {
          "base_uri": "https://localhost:8080/"
        },
        "id": "hDp-2KSgPlEn",
        "outputId": "03e90a3f-5a2a-41bd-9c9a-0c0136b9e547"
      },
      "execution_count": null,
      "outputs": [
        {
          "output_type": "stream",
          "name": "stdout",
          "text": [
            "In a quaint village nestled between rolling hills and lush forests, a group of curious children gathered under the shade of a towering oak tree. Among them was Lily, a bright-eyed girl with a penchant for asking thought-provoking questions.\n",
            "\n",
            "One sunny afternoon, their teacher, Mr. Thompson, began a lesson on the impact of environmental changes on living things. He spoke of how fires and floods could alter entire landscapes, affecting both people and animals.\n",
            "\n",
            "\"Imagine a forest that has been ravaged by a fierce wildfire,\" Mr. Thompson began, capturing the children's attention. \"How do you think the animals living there would be affected?\"\n",
            "\n",
            "Lily's hand shot up eagerly. \"Wouldn't the animals lose their homes and food sources?\" she asked, her brow furrowed in concern.\n",
            "\n",
            "Mr. Thompson nodded, impressed by Lily's insightful observation. \"Exactly, Lily. Fires can destroy habitats, forcing animals to flee in search of new shelter and food.\"\n",
            "\n",
            "As the lesson continued, the children delved deeper into the topic, asking questions about the specific ways different animals could be impacted by fires and floods. They learned how some species, like birds, could escape fires by flying away, while others, such as rabbits, might seek refuge underground.\n",
            "\n",
            "\"Let's not forget about flooding,\" Mr. Thompson said, shifting the focus to another environmental threat. \"How do you think aquatic animals like fish or frogs cope with sudden floods?\"\n",
            "\n",
            "The children pondered this new question, their imaginations running wild with possibilities. Timmy, a boy with a knack for numbers, suggested, \"Maybe fish swim to higher ground or deeper waters to avoid the rising floods.\"\n",
            "\n",
            "Impressed by Timmy's logical thinking, Mr. Thompson nodded in approval. \"That's a great point, Timmy. Animals have unique adaptations to survive in changing environments.\"\n",
            "\n",
            "As the sun began to dip below the horizon, Mr. Thompson wrapped up the lesson, leaving the children with a newfound understanding of the delicate balance between living things and their ever-changing environments.\n",
            "\n",
            "\"Remember, children,\" he said with a smile, \"environments can change, but by asking questions and seeking answers, we can learn how to adapt and protect the world around us.\"\n",
            "\n",
            "With a renewed sense of curiosity and empathy, Lily and her friends bid farewell to the oak tree, their minds buzzing with the wonders of the natural world and the resilience of its inhabitants.\n",
            "\n",
            "And so, in that peaceful village surrounded by nature's beauty, a new generation of young explorers set out to uncover the mysteries of environmental change, armed with their insatiable curiosity and a deep sense of compassion for all living things.\n"
          ]
        }
      ]
    },
    {
      "cell_type": "markdown",
      "source": [
        "### **Thursday (Topic 3)**"
      ],
      "metadata": {
        "id": "5kPjOYqFP9AB"
      }
    },
    {
      "cell_type": "code",
      "source": [
        "story_request = \"Children explore different ways people try to reduce the impact of change on an environment and then research the effects of droughts, volcanoes etc. on living things.\"\n",
        "objective = \"\"\"Recognise that environments can change and that this can sometimes pose dangers to living things.\n",
        "Using straightforward scientific evidence to answer questions or to support their findings.\"\"\""
      ],
      "metadata": {
        "id": "dXmLn_OYQCdx"
      },
      "execution_count": null,
      "outputs": []
    },
    {
      "cell_type": "code",
      "source": [
        "res = generate_lecture_story(story_request, 500, \"Late Elementary\", objective)\n",
        "print(res)"
      ],
      "metadata": {
        "colab": {
          "base_uri": "https://localhost:8080/"
        },
        "id": "8iysVUTwQEur",
        "outputId": "ec213e15-84f9-4d77-8db8-8e958f23c1b8"
      },
      "execution_count": null,
      "outputs": [
        {
          "output_type": "stream",
          "name": "stdout",
          "text": [
            "In a bustling classroom filled with eager late elementary students, the teacher, Ms. Lily, began her lesson on environmental changes. \n",
            "\n",
            "\"Today, we are going to explore how people try to reduce the impact of changes on the environment,\" she announced, capturing the attention of her curious students. \n",
            "\n",
            "The children listened intently as Ms. Lily explained different ways in which humans work to protect the environment from harm. They learned about recycling, using renewable energy sources, and preserving natural habitats. \n",
            "\n",
            "As the lesson progressed, Ms. Lily introduced a new task for the students. \"I want each of you to research the effects of natural disasters like droughts and volcanoes on living things,\" she said, handing out research materials to the excited students.\n",
            "\n",
            "The classroom buzzed with activity as the children dove into their research. Tommy, a boy with a knack for numbers, eagerly studied the statistics of droughts and their impact on plants and animals. Sarah, who loved solving mysteries, delved into the reasons behind volcanic eruptions and how they affected ecosystems.\n",
            "\n",
            "After a week of researching and compiling their findings, the students presented their projects to the class. Tommy shared his discoveries about how droughts can lead to food shortages for animals, while Sarah explained the process of succession after a volcanic eruption and how new life eventually thrives in the once-devastated area.\n",
            "\n",
            "Ms. Lily beamed with pride as she listened to her students' insightful presentations. \"You all did a fantastic job researching and understanding the effects of environmental changes on living things,\" she praised.\n",
            "\n",
            "In the end, the students not only learned about the importance of protecting the environment but also gained a deeper understanding of how natural disasters can impact ecosystems and the creatures that inhabit them.\n",
            "\n",
            "As the bell rang to signal the end of the lesson, the children left the classroom with a newfound appreciation for the delicate balance of nature and a determination to continue exploring ways to protect the environment for future generations.\n"
          ]
        }
      ]
    }
  ]
}